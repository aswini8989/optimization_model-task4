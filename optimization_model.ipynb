{
  "nbformat": 4,
  "nbformat_minor": 0,
  "metadata": {
    "colab": {
      "provenance": []
    },
    "kernelspec": {
      "name": "python3",
      "display_name": "Python 3"
    },
    "language_info": {
      "name": "python"
    }
  },
  "cells": [
    {
      "cell_type": "code",
      "execution_count": 7,
      "metadata": {
        "colab": {
          "base_uri": "https://localhost:8080/"
        },
        "id": "KrxG1ip5fzOW",
        "outputId": "ba396161-be61-4ae4-b61c-0d3bd18bb215"
      },
      "outputs": [
        {
          "output_type": "stream",
          "name": "stdout",
          "text": [
            "Collecting pulp\n",
            "  Downloading pulp-3.2.1-py3-none-any.whl.metadata (6.9 kB)\n",
            "Downloading pulp-3.2.1-py3-none-any.whl (16.4 MB)\n",
            "\u001b[2K   \u001b[90m━━━━━━━━━━━━━━━━━━━━━━━━━━━━━━━━━━━━━━━━\u001b[0m \u001b[32m16.4/16.4 MB\u001b[0m \u001b[31m81.2 MB/s\u001b[0m eta \u001b[36m0:00:00\u001b[0m\n",
            "\u001b[?25hInstalling collected packages: pulp\n",
            "Successfully installed pulp-3.2.1\n"
          ]
        }
      ],
      "source": [
        "!pip install pulp"
      ]
    },
    {
      "cell_type": "code",
      "source": [
        "from pulp import *\n",
        "\n",
        "# Step 1: Define the problem\n",
        "model = LpProblem(\"Maximize_Profit\", LpMaximize)\n",
        "\n",
        "# Step 2: Define decision variables\n",
        "A = LpVariable(\"Product_A\", lowBound=0, cat='Continuous')\n",
        "B = LpVariable(\"Product_B\", lowBound=0, cat='Continuous')\n",
        "\n",
        "# Step 3: Objective function\n",
        "model += 20 * A + 30 * B, \"Total Profit\"\n",
        "\n",
        "# Step 4: Constraints\n",
        "model += 2 * A + 1 * B <= 100, \"Material Constraint\"\n",
        "model += 1 * A + 3 * B <= 90, \"Labor Constraint\"\n",
        "\n",
        "# Step 5: Solve the model\n",
        "model.solve()\n",
        "\n",
        "# Step 6: Output results\n",
        "print(\"Status:\", LpStatus[model.status])\n",
        "print(\"Produce units of Product A:\", A.varValue)\n",
        "print(\"Produce units of Product B:\", B.varValue)\n",
        "print(\"Max Profit:\", value(model.objective))\n"
      ],
      "metadata": {
        "colab": {
          "base_uri": "https://localhost:8080/"
        },
        "id": "K-wJ5XT4gGTt",
        "outputId": "d10f382c-b4af-4e2b-e683-1d81a02c7701"
      },
      "execution_count": 8,
      "outputs": [
        {
          "output_type": "stream",
          "name": "stdout",
          "text": [
            "Status: Optimal\n",
            "Produce units of Product A: 42.0\n",
            "Produce units of Product B: 16.0\n",
            "Max Profit: 1320.0\n"
          ]
        }
      ]
    }
  ]
}